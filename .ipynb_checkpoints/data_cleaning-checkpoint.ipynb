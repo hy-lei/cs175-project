{
 "cells": [
  {
   "cell_type": "code",
   "execution_count": 1,
   "metadata": {},
   "outputs": [],
   "source": [
    "import os\n",
    "import shutil\n",
    "import numpy as np\n",
    "import json\n",
    "import cv2\n",
    "import send2trash\n",
    "\n",
    "source = '../Dataset/Color'\n",
    "train_dst = 'train'\n",
    "test_dst = 'test'\n",
    "annotation_dst = '../Dataset/annotation.json'\n",
    "files = os.listdir(source)"
   ]
  },
  {
   "cell_type": "code",
   "execution_count": 2,
   "metadata": {},
   "outputs": [],
   "source": [
    "# toy example: sample 80 images as training set and 20 images as test set\n",
    "size = 100\n",
    "sample = np.random.choice(files, size=size)\n",
    "train_size = int(size * 0.8)\n",
    "test_size = int(size * 0.2)\n",
    "train = sample[:train_size]\n",
    "test = sample[train_size:]"
   ]
  },
  {
   "cell_type": "code",
   "execution_count": 3,
   "metadata": {},
   "outputs": [],
   "source": [
    "annotation_data = {}\n",
    "with open(annotation_dst) as f:\n",
    "    annotation_data = json.load(f)\n",
    "annotation = annotation_data.items()"
   ]
  },
  {
   "cell_type": "code",
   "execution_count": 4,
   "metadata": {},
   "outputs": [],
   "source": [
    "def generate_dataset(src, training_dst, test_dst, training, test):\n",
    "    print(\"generating dataset...\")\n",
    "    if os.path.exists(training_dst):\n",
    "        shutil.rmtree(training_dst)\n",
    "    os.makedirs(training_dst)\n",
    "    \n",
    "    if os.path.exists(test_dst):\n",
    "        shutil.rmtree(test_dst)\n",
    "    os.makedirs(test_dst)\n",
    "    \n",
    "    for f in training:\n",
    "        # copy file in images\n",
    "        shutil.copy(src + '/' + f, training_dst + '/' + f)\n",
    "        # copy annotation data of corresponding files\n",
    "        \n",
    "        \n",
    "    print(\"training set completed!\")\n",
    "    \n",
    "    for f in test:\n",
    "        shutil.copy(src + '/' + f, test_dst + '/' + f)\n",
    "    print(\"test set completed!\")"
   ]
  },
  {
   "cell_type": "code",
   "execution_count": 5,
   "metadata": {},
   "outputs": [
    {
     "name": "stdout",
     "output_type": "stream",
     "text": [
      "generating dataset...\n",
      "training set completed!\n",
      "test set completed!\n"
     ]
    }
   ],
   "source": [
    "generate_dataset(source, train_dst, test_dst, train, test)"
   ]
  },
  {
   "cell_type": "code",
   "execution_count": 6,
   "metadata": {},
   "outputs": [],
   "source": [
    "# convert annotation data to csv format\n",
    "import csv\n",
    "import decimal"
   ]
  },
  {
   "cell_type": "code",
   "execution_count": 7,
   "metadata": {},
   "outputs": [],
   "source": [
    "def bounds(coordinates):\n",
    "    xmin = ymin = decimal.Decimal('infinity')\n",
    "    xmax = ymax = 0\n",
    "    xmin = min(coordinates[:][:][0])\n",
    "    xmax = max(coordinates[:][:][0])\n",
    "    ymin = min(coordinates[:][:][1])\n",
    "    ymax = max(coordinates[:][:][1])\n",
    "    return xmin, ymin, xmax, ymax"
   ]
  },
  {
   "cell_type": "code",
   "execution_count": 8,
   "metadata": {},
   "outputs": [],
   "source": [
    "def generate_label_file(img_dir, annotation_data):\n",
    "    \"\"\"\n",
    "    Given an image directory, and an annotation dictionary, create a csv file with specified input format\n",
    "    \"\"\"\n",
    "    img_names = []\n",
    "    csv_holder = []\n",
    "    header = ['filename', 'width', 'height', 'class', 'xmin', 'ymin', 'xmax', 'ymax']\n",
    "    csv_holder.append(header)\n",
    "    for roots, dirs, filenames in os.walk(img_dir):\n",
    "        for f in filenames:\n",
    "            if f.split(\".\")[1] == \"jpg\":\n",
    "                img_names.append(f.split(\".\")[0])\n",
    "\n",
    "    for i, name in enumerate(img_names):\n",
    "        name_L = name + \"_L\"\n",
    "        name_R = name + \"_R\"\n",
    "        # get width and height of current image\n",
    "        filename = name + \".jpg\"\n",
    "        img = cv2.imread(img_dir + \"/\" + filename)\n",
    "        \n",
    "        width = img.shape[1]\n",
    "        height = img.shape[0]\n",
    "        # get bounding box(es)\n",
    "        # Either left or right hand annotation is in annotation_data\n",
    "        if name_L in annotation_data.keys():\n",
    "            # find xmin, ymin, xmax, ymax\n",
    "            xmin, ymin, xmax, ymax = bounds(annotation_data[name_L])\n",
    "            if xmin > 0 and ymin > 0 and xmax > 0 and ymax > 0:\n",
    "                label_row = [filename, width, height, \"hand\", xmin, ymin, xmax, ymax]\n",
    "                csv_holder.append(label_row)\n",
    "        if name_R in annotation_data.keys():\n",
    "            # same as name_L\n",
    "            xmin, ymin, xmax, ymax = bounds(annotation_data[name_R])\n",
    "            if xmin > 0 and ymin > 0 and xmax > 0 and ymax > 0:\n",
    "                label_row = [filename, width, height, \"hand\", xmin, ymin, xmax, ymax]\n",
    "                csv_holder.append(label_row)\n",
    "        \n",
    "    # save as csv\n",
    "    csv_path = img_dir + \"/\" + img_dir + \".csv\"\n",
    "    print(csv_path)\n",
    "    if os.path.exists(csv_path):\n",
    "        send2trash.send2trash(csv_path)\n",
    "\n",
    "    if not os.path.exists(csv_path):\n",
    "        with open(csv_path, 'w') as csv_file:\n",
    "            wr = csv.writer(csv_file)\n",
    "            print(\"Writing data to csv file...\")\n",
    "            for i, row in enumerate(csv_holder):\n",
    "                wr.writerow(row)\n",
    "            print(\"Completed!\")"
   ]
  },
  {
   "cell_type": "code",
   "execution_count": 9,
   "metadata": {
    "scrolled": true
   },
   "outputs": [
    {
     "name": "stdout",
     "output_type": "stream",
     "text": [
      "train/train.csv\n",
      "Writing data to csv file...\n",
      "Completed!\n",
      "test/test.csv\n",
      "Writing data to csv file...\n",
      "Completed!\n"
     ]
    }
   ],
   "source": [
    "generate_label_file(train_dst, annotation_data)\n",
    "generate_label_file(test_dst, annotation_data)"
   ]
  },
  {
   "cell_type": "code",
   "execution_count": 11,
   "metadata": {},
   "outputs": [
    {
     "ename": "ImportError",
     "evalue": "No module named object_detection",
     "output_type": "error",
     "traceback": [
      "\u001b[0;31m---------------------------------------------------------------------------\u001b[0m",
      "\u001b[0;31mImportError\u001b[0m                               Traceback (most recent call last)",
      "\u001b[0;32m<ipython-input-11-31ead2ebfb7f>\u001b[0m in \u001b[0;36m<module>\u001b[0;34m()\u001b[0m\n\u001b[1;32m     17\u001b[0m \u001b[0;34m\u001b[0m\u001b[0m\n\u001b[1;32m     18\u001b[0m \u001b[0;32mfrom\u001b[0m \u001b[0mPIL\u001b[0m \u001b[0;32mimport\u001b[0m \u001b[0mImage\u001b[0m\u001b[0;34m\u001b[0m\u001b[0m\n\u001b[0;32m---> 19\u001b[0;31m \u001b[0;32mimport\u001b[0m \u001b[0mobject_detection\u001b[0m \u001b[0;32mas\u001b[0m \u001b[0mod\u001b[0m\u001b[0;34m\u001b[0m\u001b[0m\n\u001b[0m\u001b[1;32m     20\u001b[0m \u001b[0;34m\u001b[0m\u001b[0m\n\u001b[1;32m     21\u001b[0m \u001b[0;32mfrom\u001b[0m \u001b[0mobject_detection\u001b[0m\u001b[0;34m.\u001b[0m\u001b[0mutils\u001b[0m \u001b[0;32mimport\u001b[0m \u001b[0mdataset_util\u001b[0m\u001b[0;34m\u001b[0m\u001b[0m\n",
      "\u001b[0;31mImportError\u001b[0m: No module named object_detection"
     ]
    }
   ],
   "source": [
    "\"\"\"\n",
    "Usage:\n",
    "  # From tensorflow/models/\n",
    "  # Create train data:\n",
    "  python generate_tfrecord.py --csv_input=data/train_labels.csv  --output_path=train.record\n",
    "  # Create test data:\n",
    "  python generate_tfrecord.py --csv_input=data/test_labels.csv  --output_path=test.record\n",
    "\"\"\"\n",
    "from __future__ import division\n",
    "from __future__ import print_function\n",
    "from __future__ import absolute_import\n",
    "\n",
    "import os\n",
    "import io\n",
    "import pandas as pd\n",
    "import tensorflow as tf\n",
    "\n",
    "from PIL import Image\n",
    "from object_detection.utils import dataset_util\n",
    "from collections import namedtuple, OrderedDict\n",
    "\n",
    "flags = tf.app.flags\n",
    "flags.DEFINE_string('csv_input', '', 'train/train.csv')\n",
    "flags.DEFINE_string('output_path', '', './')\n",
    "FLAGS = flags.FLAGS\n",
    "\n",
    "\n",
    "# TO-DO replace this with label map\n",
    "def class_text_to_int(row_label):\n",
    "    if row_label == 'raccoon':\n",
    "        return 1\n",
    "    else:\n",
    "        None\n",
    "\n",
    "\n",
    "def split(df, group):\n",
    "    data = namedtuple('data', ['filename', 'object'])\n",
    "    gb = df.groupby(group)\n",
    "    return [data(filename, gb.get_group(x)) for filename, x in zip(gb.groups.keys(), gb.groups)]\n",
    "\n",
    "\n",
    "def create_tf_example(group, path):\n",
    "    with tf.gfile.GFile(os.path.join(path, '{}'.format(group.filename)), 'rb') as fid:\n",
    "        encoded_jpg = fid.read()\n",
    "    encoded_jpg_io = io.BytesIO(encoded_jpg)\n",
    "    image = Image.open(encoded_jpg_io)\n",
    "    width, height = image.size\n",
    "\n",
    "    filename = group.filename.encode('utf8')\n",
    "    image_format = b'jpg'\n",
    "    xmins = []\n",
    "    xmaxs = []\n",
    "    ymins = []\n",
    "    ymaxs = []\n",
    "    classes_text = []\n",
    "    classes = []\n",
    "\n",
    "    for index, row in group.object.iterrows():\n",
    "        xmins.append(row['xmin'] / width)\n",
    "        xmaxs.append(row['xmax'] / width)\n",
    "        ymins.append(row['ymin'] / height)\n",
    "        ymaxs.append(row['ymax'] / height)\n",
    "        classes_text.append(row['class'].encode('utf8'))\n",
    "        classes.append(class_text_to_int(row['class']))\n",
    "\n",
    "    tf_example = tf.train.Example(features=tf.train.Features(feature={\n",
    "        'image/height': dataset_util.int64_feature(height),\n",
    "        'image/width': dataset_util.int64_feature(width),\n",
    "        'image/filename': dataset_util.bytes_feature(filename),\n",
    "        'image/source_id': dataset_util.bytes_feature(filename),\n",
    "        'image/encoded': dataset_util.bytes_feature(encoded_jpg),\n",
    "        'image/format': dataset_util.bytes_feature(image_format),\n",
    "        'image/object/bbox/xmin': dataset_util.float_list_feature(xmins),\n",
    "        'image/object/bbox/xmax': dataset_util.float_list_feature(xmaxs),\n",
    "        'image/object/bbox/ymin': dataset_util.float_list_feature(ymins),\n",
    "        'image/object/bbox/ymax': dataset_util.float_list_feature(ymaxs),\n",
    "        'image/object/class/text': dataset_util.bytes_list_feature(classes_text),\n",
    "        'image/object/class/label': dataset_util.int64_list_feature(classes),\n",
    "    }))\n",
    "    return tf_example\n",
    "\n",
    "\n",
    "def main(_):\n",
    "    writer = tf.python_io.TFRecordWriter(FLAGS.output_path)\n",
    "    path = os.path.join(os.getcwd(), 'images')\n",
    "    examples = pd.read_csv(FLAGS.csv_input)\n",
    "    grouped = split(examples, 'filename')\n",
    "    for group in grouped:\n",
    "        tf_example = create_tf_example(group, path)\n",
    "        writer.write(tf_example.SerializeToString())\n",
    "\n",
    "    writer.close()\n",
    "    output_path = os.path.join(os.getcwd(), FLAGS.output_path)\n",
    "    print('Successfully created the TFRecords: {}'.format(output_path))\n",
    "\n",
    "\n",
    "if __name__ == '__main__':\n",
    "    tf.app.run()"
   ]
  },
  {
   "cell_type": "code",
   "execution_count": null,
   "metadata": {},
   "outputs": [],
   "source": []
  }
 ],
 "metadata": {
  "kernelspec": {
   "display_name": "Python 2",
   "language": "python",
   "name": "python2"
  },
  "language_info": {
   "codemirror_mode": {
    "name": "ipython",
    "version": 2
   },
   "file_extension": ".py",
   "mimetype": "text/x-python",
   "name": "python",
   "nbconvert_exporter": "python",
   "pygments_lexer": "ipython2",
   "version": "2.7.15"
  }
 },
 "nbformat": 4,
 "nbformat_minor": 2
}
