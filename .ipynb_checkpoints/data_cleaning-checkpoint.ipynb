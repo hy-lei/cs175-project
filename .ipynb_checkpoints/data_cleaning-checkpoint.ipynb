{
 "cells": [
  {
   "cell_type": "code",
   "execution_count": 24,
   "metadata": {},
   "outputs": [],
   "source": [
    "import os\n",
    "import shutil\n",
    "import numpy as np\n",
    "import json\n",
    "\n",
    "source = '../Dataset/Color'\n",
    "training_dst = 'training'\n",
    "test_dst = 'test'\n",
    "annotation_dst = '../Dataset/annotation.json'\n",
    "files = os.listdir(source)"
   ]
  },
  {
   "cell_type": "code",
   "execution_count": 25,
   "metadata": {},
   "outputs": [],
   "source": [
    "# toy example: sample 80 images as training set and 20 images as test set\n",
    "size = 100\n",
    "sample = np.random.choice(files, size=size)\n",
    "training_size = int(size * 0.8)\n",
    "test_size = int(size * 0.2)\n",
    "training = sample[:training_size]\n",
    "test = sample[training_size:]"
   ]
  },
  {
   "cell_type": "code",
   "execution_count": 26,
   "metadata": {},
   "outputs": [],
   "source": [
    "annotation_data = {}\n",
    "with open(annotation_dst) as f:\n",
    "    annotation_data = json.load(f)\n",
    "annotation = annotation_data.items()"
   ]
  },
  {
   "cell_type": "code",
   "execution_count": 27,
   "metadata": {},
   "outputs": [],
   "source": [
    "def generate_dataset(src, training_dst, test_dst, training, test, annotation):\n",
    "    print(\"generating dataset...\")\n",
    "    if os.path.exists(training_dst):\n",
    "        shutil.rmtree(training_dst)\n",
    "    os.makedirs(training_dst)\n",
    "    \n",
    "    if os.path.exists(test_dst):\n",
    "        shutil.rmtree(test_dst)\n",
    "    os.makedirs(test_dst)\n",
    "    \n",
    "    for f in training:\n",
    "        # copy file in images\n",
    "        shutil.copy(src + '/' + f, training_dst + '/' + f)\n",
    "        # copy annotation data of corresponding files\n",
    "        \n",
    "        \n",
    "    print(\"training set completed!\")\n",
    "    \n",
    "    for f in test:\n",
    "        shutil.copy(src + '/' + f, test_dst + '/' + f)\n",
    "    print(\"test set completed!\")"
   ]
  },
  {
   "cell_type": "code",
   "execution_count": 28,
   "metadata": {},
   "outputs": [
    {
     "name": "stdout",
     "output_type": "stream",
     "text": [
      "generating dataset...\n",
      "training set completed!\n",
      "test set completed!\n"
     ]
    }
   ],
   "source": [
    "generate_dataset(source, training_dst, test_dst, training, test, annotation)"
   ]
  },
  {
   "cell_type": "code",
   "execution_count": null,
   "metadata": {},
   "outputs": [],
   "source": []
  }
 ],
 "metadata": {
  "kernelspec": {
   "display_name": "Python 2",
   "language": "python",
   "name": "python2"
  },
  "language_info": {
   "codemirror_mode": {
    "name": "ipython",
    "version": 2
   },
   "file_extension": ".py",
   "mimetype": "text/x-python",
   "name": "python",
   "nbconvert_exporter": "python",
   "pygments_lexer": "ipython2",
   "version": "2.7.15"
  }
 },
 "nbformat": 4,
 "nbformat_minor": 2
}
