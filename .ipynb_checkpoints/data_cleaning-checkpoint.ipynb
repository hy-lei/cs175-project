{
 "cells": [
  {
   "cell_type": "code",
   "execution_count": 5,
   "metadata": {},
   "outputs": [],
   "source": [
    "import os\n",
    "import shutil\n",
    "import numpy as np\n",
    "import json\n",
    "import cv2\n",
    "import send2trash\n",
    "\n",
    "source = '../Dataset/Color'\n",
    "train_dst = 'models/model/train'\n",
    "test_dst = 'models/model/test'\n",
    "annotation_dst = '../Dataset/annotation.json'\n",
    "files = os.listdir(source)"
   ]
  },
  {
   "cell_type": "code",
   "execution_count": 6,
   "metadata": {},
   "outputs": [],
   "source": [
    "# toy example: sample 800 images as training set and 200 images as test set\n",
    "size = 1000\n",
    "sample = np.random.choice(files, size=size)\n",
    "train_size = int(size * 0.8)\n",
    "test_size = int(size * 0.2)\n",
    "train = sample[:train_size]\n",
    "test = sample[train_size:]"
   ]
  },
  {
   "cell_type": "code",
   "execution_count": 7,
   "metadata": {},
   "outputs": [],
   "source": [
    "annotation_data = {}\n",
    "with open(annotation_dst) as f:\n",
    "    annotation_data = json.load(f)\n",
    "annotation = annotation_data.items()"
   ]
  },
  {
   "cell_type": "code",
   "execution_count": 8,
   "metadata": {},
   "outputs": [],
   "source": [
    "def generate_dataset(src, training_dst, test_dst, training, test):\n",
    "    print(\"generating dataset...\")\n",
    "    if os.path.exists(training_dst):\n",
    "        shutil.rmtree(training_dst)\n",
    "    os.makedirs(training_dst)\n",
    "    \n",
    "    if os.path.exists(test_dst):\n",
    "        shutil.rmtree(test_dst)\n",
    "    os.makedirs(test_dst)\n",
    "    \n",
    "    for f in training:\n",
    "        # copy file in images\n",
    "        shutil.copy(src + '/' + f, training_dst + '/' + f)\n",
    "        # copy annotation data of corresponding files\n",
    "        \n",
    "        \n",
    "    print(\"training set completed!\")\n",
    "    \n",
    "    for f in test:\n",
    "        shutil.copy(src + '/' + f, test_dst + '/' + f)\n",
    "    print(\"test set completed!\")"
   ]
  },
  {
   "cell_type": "code",
   "execution_count": 9,
   "metadata": {},
   "outputs": [
    {
     "name": "stdout",
     "output_type": "stream",
     "text": [
      "generating dataset...\n",
      "training set completed!\n",
      "test set completed!\n"
     ]
    }
   ],
   "source": [
    "generate_dataset(source, train_dst, test_dst, train, test)"
   ]
  },
  {
   "cell_type": "code",
   "execution_count": 10,
   "metadata": {},
   "outputs": [],
   "source": [
    "# convert annotation data to csv format\n",
    "import csv\n",
    "import decimal"
   ]
  },
  {
   "cell_type": "code",
   "execution_count": 11,
   "metadata": {},
   "outputs": [],
   "source": [
    "def bounds(coordinates):\n",
    "    xmin = ymin = decimal.Decimal('infinity')\n",
    "    xmax = ymax = 0\n",
    "    for i in range(len(coordinates)):\n",
    "        pair = coordinates[i]\n",
    "        x = int(pair[0])\n",
    "        y = int(pair[1])\n",
    "        xmax = x if (x > xmax) else xmax\n",
    "        xmin = x if (x < xmin) else xmin\n",
    "        ymax = y if (y > ymax) else ymax\n",
    "        ymin = y if (y < ymin) else ymin\n",
    "    return xmin, ymin, xmax, ymax"
   ]
  },
  {
   "cell_type": "code",
   "execution_count": 12,
   "metadata": {},
   "outputs": [],
   "source": [
    "def generate_label_file(img_dir, label_dst, annotation_data):\n",
    "    \"\"\"\n",
    "    Given an image directory, and an annotation dictionary, create a csv file with specified input format\n",
    "    \"\"\"\n",
    "    img_names = []\n",
    "    csv_holder = []\n",
    "    header = ['filename', 'width', 'height', 'class', 'xmin', 'ymin', 'xmax', 'ymax']\n",
    "    csv_holder.append(header)\n",
    "    for roots, dirs, filenames in os.walk(img_dir):\n",
    "        for f in filenames:\n",
    "            if f.split(\".\")[1] == \"jpg\":\n",
    "                img_names.append(f.split(\".\")[0])\n",
    "\n",
    "    for i, name in enumerate(img_names):\n",
    "        name_L = name + \"_L\"\n",
    "        name_R = name + \"_R\"\n",
    "        # get width and height of current image\n",
    "        filename = name + \".jpg\"\n",
    "        img = cv2.imread(img_dir + \"/\" + filename)\n",
    "        \n",
    "        width = img.shape[1]\n",
    "        height = img.shape[0]\n",
    "        # get bounding box(es)\n",
    "        # Either left or right hand annotation is in annotation_data\n",
    "        if name_L in annotation_data.keys():\n",
    "            # find xmin, ymin, xmax, ymax\n",
    "            xmin, ymin, xmax, ymax = bounds(annotation_data[name_L])\n",
    "            if xmin > 0 and ymin > 0 and xmax > 0 and ymax > 0:\n",
    "                label_row = [filename, width, height, \"hand\", xmin, ymin, xmax, ymax]\n",
    "                csv_holder.append(label_row)\n",
    "                # draw bounding boxes\n",
    "                # cv2.rectangle(img, (xmin, ymin), \n",
    "                #               (xmax, ymax), (0, 255, 0), 1)\n",
    "        if name_R in annotation_data.keys():\n",
    "            # same as name_L\n",
    "            xmin, ymin, xmax, ymax = bounds(annotation_data[name_R])\n",
    "            if xmin > 0 and ymin > 0 and xmax > 0 and ymax > 0:\n",
    "                label_row = [filename, width, height, \"hand\", xmin, ymin, xmax, ymax]\n",
    "                csv_holder.append(label_row)\n",
    "                # draw bounding boxes\n",
    "                # cv2.rectangle(img, (xmin, ymin), \n",
    "                #               (xmax, ymax), (0, 255, 0), 1)\n",
    "        img = cv2.resize(img, (1080, 720))\n",
    "        # cv2.imshow('Verifying annotation', img)\n",
    "        # cv2.waitKey(200)\n",
    "    # cv2.destroyAllWindows()\n",
    "    # save as csv\n",
    "    csv_path =  \"data/\" + label_dst + \".csv\"\n",
    "    print(csv_path)\n",
    "    if os.path.exists(csv_path):\n",
    "        send2trash.send2trash(csv_path)\n",
    "\n",
    "    if not os.path.exists(csv_path):\n",
    "        with open(csv_path, 'w') as csv_file:\n",
    "            wr = csv.writer(csv_file)\n",
    "            print(\"Writing data to csv file...\")\n",
    "            for i, row in enumerate(csv_holder):\n",
    "                wr.writerow(row)\n",
    "            print(\"Completed!\")"
   ]
  },
  {
   "cell_type": "code",
   "execution_count": 13,
   "metadata": {
    "scrolled": true
   },
   "outputs": [
    {
     "name": "stdout",
     "output_type": "stream",
     "text": [
      "data/train.csv\n",
      "Writing data to csv file...\n",
      "Completed!\n",
      "data/train.csv\n",
      "Writing data to csv file...\n",
      "Completed!\n"
     ]
    }
   ],
   "source": [
    "generate_label_file(train_dst, 'train', annotation_data)\n",
    "generate_label_file(test_dst, 'test', annotation_data)"
   ]
  },
  {
   "cell_type": "code",
   "execution_count": null,
   "metadata": {},
   "outputs": [],
   "source": []
  }
 ],
 "metadata": {
  "kernelspec": {
   "display_name": "Python 2",
   "language": "python",
   "name": "python2"
  },
  "language_info": {
   "codemirror_mode": {
    "name": "ipython",
    "version": 2
   },
   "file_extension": ".py",
   "mimetype": "text/x-python",
   "name": "python",
   "nbconvert_exporter": "python",
   "pygments_lexer": "ipython2",
   "version": "2.7.15"
  }
 },
 "nbformat": 4,
 "nbformat_minor": 2
}
